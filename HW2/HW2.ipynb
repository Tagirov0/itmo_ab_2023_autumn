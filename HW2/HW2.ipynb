{
  "nbformat": 4,
  "nbformat_minor": 0,
  "metadata": {
    "colab": {
      "provenance": []
    },
    "kernelspec": {
      "name": "python3",
      "display_name": "Python 3"
    },
    "language_info": {
      "name": "python"
    }
  },
  "cells": [
    {
      "cell_type": "markdown",
      "source": [
        "## ДЗ\n",
        "Применить ранговую трансформацию (потом t-test) и сравнить с результатами по Манну-Уитни на:\n",
        "- метрике cart_added_cnt\n",
        "(1 балл)\n",
        "\n",
        "Реализовать cuped-трансформацию и сравнить мощность t-критерия на:\n",
        "- обычной метрике cart_added_cnt\n",
        "- логарфимированной метрике cart_added_cnt\n",
        "- метрике cart_added_cnt (а после подвергнуть ранговому преобразованию)\n",
        "(3 балла)\n",
        "\n",
        "В каждом случае фиксировать, на сколько сокращается дисперсия, проверять равны ли средние в группах в ковариате и совпадают ли средние в метрике до и после применения cuped\n",
        "\n",
        "Реализовать разбивку на бакеты, оценить t-критерием и сравнить с результатом без бакетирования:\n",
        "- на логнормальном распределении (сгенерированные данные)\n",
        "- на метрике cart_added_cnt\n",
        "(2 балла)\n",
        "\n",
        "Реализовать постстратификацию на данных shop_metrics_old для метрики cart_added_cnt:\n",
        "- на сочетании пола и возраста (возраст разбить на подгруппы: 18-24, 25-45, 46-60, 61-75, 76+) подсчитать результаты для случая без постстратификации и с постстратификацией\n",
        "- проверить мощность и корректность t-критерия для постстратифицированного случая\n",
        "(2 балла)"
      ],
      "metadata": {
        "id": "3zfQ9WikJhml"
      }
    },
    {
      "cell_type": "code",
      "execution_count": 1,
      "metadata": {
        "id": "wPfnnFCIw6eT"
      },
      "outputs": [],
      "source": [
        "import numpy as np\n",
        "import scipy\n",
        "import matplotlib.pyplot as plt\n",
        "import scipy.stats as stats\n",
        "import statsmodels\n",
        "import statsmodels.sandbox.stats.multicomp\n",
        "import pandas as pd\n",
        "from statsmodels.stats.weightstats import ztest\n",
        "\n",
        "import matplotlib.pyplot as plt\n",
        "import seaborn as sns\n",
        "\n",
        "from tqdm import tqdm\n",
        "from sklearn.utils import shuffle\n",
        "import hashlib\n",
        "from base64 import b64encode\n",
        "import collections\n",
        "import datetime"
      ]
    },
    {
      "cell_type": "code",
      "source": [
        "def salt_generator(salt=None):\n",
        "    import os\n",
        "    from base64 import b64encode\n",
        "    salt = os.urandom(8)\n",
        "\n",
        "    return b64encode(salt).decode('ascii')\n",
        "\n",
        "\n",
        "def groups_splitter(df, user_salt=None):\n",
        "\n",
        "    if user_salt == None:\n",
        "        salt = salt_generator()\n",
        "    else:\n",
        "        salt = user_salt\n",
        "\n",
        "    df['hash'] = ((df['user_id'].astype(str)) + '#' + salt).apply(lambda x: hashlib.sha256(x.encode('utf-8')).hexdigest())\n",
        "\n",
        "    df['group'] = ((df['hash'].str.slice(start=-6).apply(int, base=16) % 2).map(lambda x: 'A' if x == 0 else 'B'))\n",
        "\n",
        "    return df[['user_id', 'group']].drop_duplicates()"
      ],
      "metadata": {
        "id": "QTH4JA8n1GA8"
      },
      "execution_count": 8,
      "outputs": []
    },
    {
      "cell_type": "code",
      "source": [
        "shop_metrics_new = pd.read_csv('shop_df_metrics_dec.csv').drop(columns='Unnamed: 0')\n",
        "shop_metrics_old = pd.read_csv('shop_df_metrics_sept.csv').drop(columns='Unnamed: 0')\n",
        "shop_users_info = pd.read_csv('shop_df_users.csv').drop(columns='Unnamed: 0')"
      ],
      "metadata": {
        "id": "yUaXZbGYz3ma"
      },
      "execution_count": 2,
      "outputs": []
    },
    {
      "cell_type": "code",
      "source": [
        "sns.histplot(data=shop_metrics_new, x='cart_added_cnt', bins=100, color='green')"
      ],
      "metadata": {
        "colab": {
          "base_uri": "https://localhost:8080/",
          "height": 434
        },
        "id": "WMY9MaBRz-5d",
        "outputId": "2b1c6f44-daae-497a-8003-553174b83103"
      },
      "execution_count": 156,
      "outputs": [
        {
          "output_type": "execute_result",
          "data": {
            "text/plain": [
              "<Axes: xlabel='cart_added_cnt', ylabel='Count'>"
            ]
          },
          "metadata": {},
          "execution_count": 156
        },
        {
          "output_type": "display_data",
          "data": {
            "text/plain": [
              "<Figure size 470x427 with 1 Axes>"
            ],
            "image/png": "[encoded data removed]"
          },
          "metadata": {}
        }
      ]
    },
    {
      "cell_type": "markdown",
      "source": [
        "#### Применить ранговую трансформацию (потом t-test) и сравнить с результатами по Манну-Уитни на:\n",
        "\n",
        "* метрике cart_added_cnt (1 балл)"
      ],
      "metadata": {
        "id": "bTxX0vLx0uQ9"
      }
    },
    {
      "cell_type": "code",
      "source": [
        "def rank_transformation(df_a, df_b, metric):\n",
        "    df = pd.concat([df_a, df_b], axis = 0)\n",
        "    df['rank'] = df[metric].rank()\n",
        "\n",
        "    return df"
      ],
      "metadata": {
        "id": "nckPE3nN0tvL"
      },
      "execution_count": 157,
      "outputs": []
    },
    {
      "cell_type": "code",
      "source": [
        "ranked = rank_transformation(shop_metrics_new[shop_metrics_new.group == 'A'],\n",
        "                             shop_metrics_new[shop_metrics_new.group == 'B'], 'cart_added_cnt')"
      ],
      "metadata": {
        "id": "WkFjkHAX076r"
      },
      "execution_count": 158,
      "outputs": []
    },
    {
      "cell_type": "code",
      "source": [
        "stats.ttest_ind(ranked[ranked.group == 'A']['rank'], ranked[ranked.group == 'B']['rank'])"
      ],
      "metadata": {
        "colab": {
          "base_uri": "https://localhost:8080/"
        },
        "id": "kxeXePVt1ro7",
        "outputId": "2217ca98-ea45-4891-89c1-e19028a2abdb"
      },
      "execution_count": 159,
      "outputs": [
        {
          "output_type": "execute_result",
          "data": {
            "text/plain": [
              "TtestResult(statistic=-1.2743727811526857, pvalue=0.20253266477504916, df=222519.0)"
            ]
          },
          "metadata": {},
          "execution_count": 159
        }
      ]
    },
    {
      "cell_type": "markdown",
      "source": [
        "t-test не нашел различий в двух группах"
      ],
      "metadata": {
        "id": "HrVntRD42fKb"
      }
    },
    {
      "cell_type": "code",
      "source": [
        "stats.mannwhitneyu(shop_metrics_new[shop_metrics_new.group == 'A']['cart_added_cnt'],\n",
        "                   shop_metrics_new[shop_metrics_new.group == 'B']['cart_added_cnt'])"
      ],
      "metadata": {
        "colab": {
          "base_uri": "https://localhost:8080/"
        },
        "id": "mDM1-J-P2piH",
        "outputId": "2755f391-e244-4997-a06d-58f4751a7bcf"
      },
      "execution_count": 160,
      "outputs": [
        {
          "output_type": "execute_result",
          "data": {
            "text/plain": [
              "MannwhitneyuResult(statistic=6179368188.5, pvalue=0.2025319893087626)"
            ]
          },
          "metadata": {},
          "execution_count": 160
        }
      ]
    },
    {
      "cell_type": "markdown",
      "source": [
        "Критерий Манна-Уитни показал такой же результат"
      ],
      "metadata": {
        "id": "I3BkvSoX3FQK"
      }
    },
    {
      "cell_type": "code",
      "source": [
        "def check_uniform(p_values):\n",
        "    stat, p_value = scipy.stats.kstest(p_values, scipy.stats.uniform(loc=0.0, scale=1.0).cdf)\n",
        "\n",
        "    if p_value < 0.05:\n",
        "        print(f'p_value = {p_value} - p_values неравномерное распределение')\n",
        "    else:\n",
        "        print(f'p_value = {p_value} - p_values равномерное распределение')"
      ],
      "metadata": {
        "id": "zhfwqS4b6f4E"
      },
      "execution_count": 161,
      "outputs": []
    },
    {
      "cell_type": "markdown",
      "source": [
        "Посмотрим на мощность:"
      ],
      "metadata": {
        "id": "A470Sv1Bz0YQ"
      }
    },
    {
      "cell_type": "code",
      "source": [
        "shop = shop_metrics_new.drop(columns=['group'])"
      ],
      "metadata": {
        "id": "o5gJYqlQ8wJU"
      },
      "execution_count": 162,
      "outputs": []
    },
    {
      "cell_type": "code",
      "source": [
        "correctness = []\n",
        "power = []\n",
        "\n",
        "correctness_mw = []\n",
        "power_mw = []\n",
        "\n",
        "for i in tqdm(range(100)):\n",
        "\n",
        "    new_group = groups_splitter(shop.copy(), user_salt=salt_generator())\n",
        "    new_df = pd.merge(shop, new_group, how=\"left\", on=['user_id']).drop_duplicates()\n",
        "\n",
        "    ranked_df = rank_transformation(new_df[new_df.group == 'A'], new_df[new_df.group == 'B'], 'cart_added_cnt')\n",
        "\n",
        "    vec_a = ranked_df[(ranked_df['group'] == 'A')]['rank']\n",
        "    vec_b = ranked_df[(ranked_df['group'] == 'B')]['rank']\n",
        "\n",
        "    vec_b_effect = new_df[new_df['group'] == 'B']['cart_added_cnt'] * 1.05\n",
        "\n",
        "    new_df_b = new_df[new_df.group == 'B'].drop(columns=['cart_added_cnt'])\n",
        "    new_df_b['cart_added_cnt'] = list(vec_b_effect)\n",
        "\n",
        "    ranked_df_effect = rank_transformation(new_df[new_df.group == 'A'], new_df_b, 'cart_added_cnt')\n",
        "    vec_a_power = ranked_df_effect[(ranked_df_effect['group'] == 'A')]['rank']\n",
        "    vec_b_power = ranked_df_effect[(ranked_df_effect['group'] == 'B')]['rank']\n",
        "\n",
        "    p_cor, p_power = stats.ttest_ind(vec_a, vec_b)[1], stats.ttest_ind(vec_a_power, vec_b_power)[1]\n",
        "    p_cor_mw, p_power_mw = stats.mannwhitneyu(vec_a, vec_b)[1], stats.mannwhitneyu(vec_a_power, vec_b_power)[1]\n",
        "\n",
        "    correctness.append(p_cor)\n",
        "    power.append(p_power)\n",
        "\n",
        "    correctness_mw.append(p_cor_mw)\n",
        "    power_mw.append(p_power_mw)\n",
        "\n",
        "correctness = np.array(correctness)\n",
        "correctness_mw = np.array(correctness_mw)\n",
        "\n",
        "sns.set(rc={'figure.figsize':(4.7,4.27)})\n",
        "sns.histplot(data=correctness, bins=10, color='blue', kde=True)\n",
        "\n",
        "power = np.array(power)\n",
        "power_mw = np.array(power_mw)\n",
        "\n",
        "check_uniform(correctness)\n",
        "print(f' power: {(power[power < 0.05].shape[0] / power.shape[0]) * 100}% , correctness: {(1 - (correctness[correctness < 0.05].shape[0] / correctness.shape[0])) * 100}%')"
      ],
      "metadata": {
        "id": "Ut_Ul4eJ3mnu"
      },
      "execution_count": 173,
      "outputs": []
    },
    {
      "cell_type": "markdown",
      "source": [
        "Мощность критерия Манну-Уитни:"
      ],
      "metadata": {
        "id": "BUPeyKJeCZZN"
      }
    },
    {
      "cell_type": "code",
      "source": [
        "sns.set(rc={'figure.figsize':(4.7,4.27)})\n",
        "sns.histplot(data=correctness_mw, bins=10, color='blue', kde=True)\n",
        "\n",
        "check_uniform(correctness_mw)\n",
        "print(f'power: {(power_mw[power_mw < 0.05].shape[0] / power_mw.shape[0]) * 100}% , correctness: {(1 - (correctness_mw[correctness_mw < 0.05].shape[0] / correctness_mw.shape[0])) * 100}%')"
      ],
      "metadata": {
        "colab": {
          "base_uri": "https://localhost:8080/",
          "height": 428
        },
        "id": "qwOFkP5T6riP",
        "outputId": "59edac15-7a2c-4b71-e4ca-aecd6670aadf"
      },
      "execution_count": 164,
      "outputs": [
        {
          "output_type": "stream",
          "name": "stdout",
          "text": [
            "p_value = 0.3517367037695362 - p_values равномерное распределение\n",
            "power: 100.0% , correctness: 94.0%\n"
          ]
        },
        {
          "output_type": "display_data",
          "data": {
            "text/plain": [
              "<Figure size 470x427 with 1 Axes>"
            ],
            "image/png": "[encoded data removed]"
          },
          "metadata": {}
        }
      ]
    },
    {
      "cell_type": "markdown",
      "source": [
        "Мощность и корректность критериев также равны"
      ],
      "metadata": {
        "id": "o_Axa1QUEIgb"
      }
    },
    {
      "cell_type": "markdown",
      "source": [
        "#### Реализовать cuped-трансформацию и сравнить мощность t-критерия на:\n",
        "\n",
        "* обычной метрике cart_added_cnt\n",
        "* логарфимированной метрике cart_added_cnt\n",
        "* метрике cart_added_cnt (а после подвергнуть ранговому преобразованию) (3 балла)"
      ],
      "metadata": {
        "id": "ZhTjlqcVAWvV"
      }
    },
    {
      "cell_type": "code",
      "source": [
        "def cuped_transform(df, metrics):\n",
        "\n",
        "    new_columns = [str(m+'_cuped') for m in metrics]\n",
        "    df[new_columns] = pd.DataFrame([[0] * len(new_columns)], index=df.index)\n",
        "\n",
        "    df_mini = df.fillna(0)\n",
        "    for m in metrics:\n",
        "        covariate_column = str(m+'_covariate')\n",
        "        cuped_column = str(m+'_cuped')\n",
        "        mean_covariate = df_mini[covariate_column].mean()\n",
        "\n",
        "        theta = (df_mini[m].cov(df_mini[covariate_column]))/(df_mini.loc[:,covariate_column].var())\n",
        "        df_mini[cuped_column] = df_mini[m] - (df_mini[covariate_column] - mean_covariate) * theta\n",
        "\n",
        "    df.update(df_mini)\n",
        "\n",
        "    return df.drop_duplicates()"
      ],
      "metadata": {
        "id": "dJixv8W1ByNX"
      },
      "execution_count": 165,
      "outputs": []
    },
    {
      "cell_type": "code",
      "source": [
        "shop_metrics_all = pd.merge(shop_metrics_new, shop_metrics_old[['user_id', 'cart_added_cnt']], on=['user_id'], how='left')\n",
        "\n",
        "shop_metrics_all = shop_metrics_all\\\n",
        "                   .rename(columns={'cart_added_cnt_x': 'cart_added_cnt', 'cart_added_cnt_y': 'cart_added_cnt_covariate'})"
      ],
      "metadata": {
        "id": "xnM8RHPLEkyo"
      },
      "execution_count": 166,
      "outputs": []
    },
    {
      "cell_type": "code",
      "source": [
        "shop_metrics_all_cuped = cuped_transform(shop_metrics_all.copy(), ['cart_added_cnt'])"
      ],
      "metadata": {
        "id": "FaeBNgwyB2Fm"
      },
      "execution_count": 167,
      "outputs": []
    },
    {
      "cell_type": "code",
      "source": [
        "shop_metrics_all_cuped.head(3)"
      ],
      "metadata": {
        "colab": {
          "base_uri": "https://localhost:8080/",
          "height": 163
        },
        "id": "WK_nsI_WEsdT",
        "outputId": "f603f99a-ba23-490e-b778-f58052259bd5"
      },
      "execution_count": 168,
      "outputs": [
        {
          "output_type": "execute_result",
          "data": {
            "text/plain": [
              "               user_id group  is_viewed  products_viewed_cnt  price_sum  \\\n",
              "0  1515915625353230683     A          1                    1     339.79   \n",
              "1  1515915625353234047     A          1                    9     861.86   \n",
              "2  1515915625353236157     A          1                    4     179.60   \n",
              "\n",
              "   is_cart_added  is_purchased  cart_added_cnt  purchased_cnt  \\\n",
              "0            0.0           0.0               0              0   \n",
              "1            0.0           0.0               0              0   \n",
              "2            0.0           0.0               0              0   \n",
              "\n",
              "   cart_added_cnt_covariate  cart_added_cnt_cuped  \n",
              "0                         0              0.132761  \n",
              "1                         0              0.132761  \n",
              "2                         0              0.132761  "
            ],
            "text/html": [
              "\n",
              "  <div id=\"df-c1e11833-afa5-4bce-88a6-7524fb667f9d\" class=\"colab-df-container\">\n",
              "    <div>\n",
              "<style scoped>\n",
              "    .dataframe tbody tr th:only-of-type {\n",
              "        vertical-align: middle;\n",
              "    }\n",
              "\n",
              "    .dataframe tbody tr th {\n",
              "        vertical-align: top;\n",
              "    }\n",
              "\n",
              "    .dataframe thead th {\n",
              "        text-align: right;\n",
              "    }\n",
              "</style>\n",
              "<table border=\"1\" class=\"dataframe\">\n",
              "  <thead>\n",
              "    <tr style=\"text-align: right;\">\n",
              "      <th></th>\n",
              "      <th>user_id</th>\n",
              "      <th>group</th>\n",
              "      <th>is_viewed</th>\n",
              "      <th>products_viewed_cnt</th>\n",
              "      <th>price_sum</th>\n",
              "      <th>is_cart_added</th>\n",
              "      <th>is_purchased</th>\n",
              "      <th>cart_added_cnt</th>\n",
              "      <th>purchased_cnt</th>\n",
              "      <th>cart_added_cnt_covariate</th>\n",
              "      <th>cart_added_cnt_cuped</th>\n",
              "    </tr>\n",
              "  </thead>\n",
              "  <tbody>\n",
              "    <tr>\n",
              "      <th>0</th>\n",
              "      <td>1515915625353230683</td>\n",
              "      <td>A</td>\n",
              "      <td>1</td>\n",
              "      <td>1</td>\n",
              "      <td>339.79</td>\n",
              "      <td>0.0</td>\n",
              "      <td>0.0</td>\n",
              "      <td>0</td>\n",
              "      <td>0</td>\n",
              "      <td>0</td>\n",
              "      <td>0.132761</td>\n",
              "    </tr>\n",
              "    <tr>\n",
              "      <th>1</th>\n",
              "      <td>1515915625353234047</td>\n",
              "      <td>A</td>\n",
              "      <td>1</td>\n",
              "      <td>9</td>\n",
              "      <td>861.86</td>\n",
              "      <td>0.0</td>\n",
              "      <td>0.0</td>\n",
              "      <td>0</td>\n",
              "      <td>0</td>\n",
              "      <td>0</td>\n",
              "      <td>0.132761</td>\n",
              "    </tr>\n",
              "    <tr>\n",
              "      <th>2</th>\n",
              "      <td>1515915625353236157</td>\n",
              "      <td>A</td>\n",
              "      <td>1</td>\n",
              "      <td>4</td>\n",
              "      <td>179.60</td>\n",
              "      <td>0.0</td>\n",
              "      <td>0.0</td>\n",
              "      <td>0</td>\n",
              "      <td>0</td>\n",
              "      <td>0</td>\n",
              "      <td>0.132761</td>\n",
              "    </tr>\n",
              "  </tbody>\n",
              "</table>\n",
              "</div>\n",
              "    <div class=\"colab-df-buttons\">\n",
              "\n",
              "  <div class=\"colab-df-container\">\n",
              "    <button class=\"colab-df-convert\" onclick=\"convertToInteractive('df-c1e11833-afa5-4bce-88a6-7524fb667f9d')\"\n",
              "            title=\"Convert this dataframe to an interactive table.\"\n",
              "            style=\"display:none;\">\n",
              "\n",
              "  <svg xmlns=\"http://www.w3.org/2000/svg\" height=\"24px\" viewBox=\"0 -960 960 960\">\n",
              "    <path d=\"M120-120v-720h720v720H120Zm60-500h600v-160H180v160Zm220 220h160v-160H400v160Zm0 220h160v-160H400v160ZM180-400h160v-160H180v160Zm440 0h160v-160H620v160ZM180-180h160v-160H180v160Zm440 0h160v-160H620v160Z\"/>\n",
              "  </svg>\n",
              "    </button>\n",
              "\n",
              "  <style>\n",
              "    .colab-df-container {\n",
              "      display:flex;\n",
              "      gap: 12px;\n",
              "    }\n",
              "\n",
              "    .colab-df-convert {\n",
              "      background-color: #E8F0FE;\n",
              "      border: none;\n",
              "      border-radius: 50%;\n",
              "      cursor: pointer;\n",
              "      display: none;\n",
              "      fill: #1967D2;\n",
              "      height: 32px;\n",
              "      padding: 0 0 0 0;\n",
              "      width: 32px;\n",
              "    }\n",
              "\n",
              "    .colab-df-convert:hover {\n",
              "      background-color: #E2EBFA;\n",
              "      box-shadow: 0px 1px 2px rgba(60, 64, 67, 0.3), 0px 1px 3px 1px rgba(60, 64, 67, 0.15);\n",
              "      fill: #174EA6;\n",
              "    }\n",
              "\n",
              "    .colab-df-buttons div {\n",
              "      margin-bottom: 4px;\n",
              "    }\n",
              "\n",
              "    [theme=dark] .colab-df-convert {\n",
              "      background-color: #3B4455;\n",
              "      fill: #D2E3FC;\n",
              "    }\n",
              "\n",
              "    [theme=dark] .colab-df-convert:hover {\n",
              "      background-color: #434B5C;\n",
              "      box-shadow: 0px 1px 3px 1px rgba(0, 0, 0, 0.15);\n",
              "      filter: drop-shadow(0px 1px 2px rgba(0, 0, 0, 0.3));\n",
              "      fill: #FFFFFF;\n",
              "    }\n",
              "  </style>\n",
              "\n",
              "    <script>\n",
              "      const buttonEl =\n",
              "        document.querySelector('#df-c1e11833-afa5-4bce-88a6-7524fb667f9d button.colab-df-convert');\n",
              "      buttonEl.style.display =\n",
              "        google.colab.kernel.accessAllowed ? 'block' : 'none';\n",
              "\n",
              "      async function convertToInteractive(key) {\n",
              "        const element = document.querySelector('#df-c1e11833-afa5-4bce-88a6-7524fb667f9d');\n",
              "        const dataTable =\n",
              "          await google.colab.kernel.invokeFunction('convertToInteractive',\n",
              "                                                    [key], {});\n",
              "        if (!dataTable) return;\n",
              "\n",
              "        const docLinkHtml = 'Like what you see? Visit the ' +\n",
              "          '<a target=\"_blank\" href=https://colab.research.google.com/notebooks/data_table.ipynb>data table notebook</a>'\n",
              "          + ' to learn more about interactive tables.';\n",
              "        element.innerHTML = '';\n",
              "        dataTable['output_type'] = 'display_data';\n",
              "        await google.colab.output.renderOutput(dataTable, element);\n",
              "        const docLink = document.createElement('div');\n",
              "        docLink.innerHTML = docLinkHtml;\n",
              "        element.appendChild(docLink);\n",
              "      }\n",
              "    </script>\n",
              "  </div>\n",
              "\n",
              "\n",
              "<div id=\"df-f4ec73c1-e71e-4a5d-963f-43a45b2b4403\">\n",
              "  <button class=\"colab-df-quickchart\" onclick=\"quickchart('df-f4ec73c1-e71e-4a5d-963f-43a45b2b4403')\"\n",
              "            title=\"Suggest charts\"\n",
              "            style=\"display:none;\">\n",
              "\n",
              "<svg xmlns=\"http://www.w3.org/2000/svg\" height=\"24px\"viewBox=\"0 0 24 24\"\n",
              "     width=\"24px\">\n",
              "    <g>\n",
              "        <path d=\"M19 3H5c-1.1 0-2 .9-2 2v14c0 1.1.9 2 2 2h14c1.1 0 2-.9 2-2V5c0-1.1-.9-2-2-2zM9 17H7v-7h2v7zm4 0h-2V7h2v10zm4 0h-2v-4h2v4z\"/>\n",
              "    </g>\n",
              "</svg>\n",
              "  </button>\n",
              "\n",
              "<style>\n",
              "  .colab-df-quickchart {\n",
              "      --bg-color: #E8F0FE;\n",
              "      --fill-color: #1967D2;\n",
              "      --hover-bg-color: #E2EBFA;\n",
              "      --hover-fill-color: #174EA6;\n",
              "      --disabled-fill-color: #AAA;\n",
              "      --disabled-bg-color: #DDD;\n",
              "  }\n",
              "\n",
              "  [theme=dark] .colab-df-quickchart {\n",
              "      --bg-color: #3B4455;\n",
              "      --fill-color: #D2E3FC;\n",
              "      --hover-bg-color: #434B5C;\n",
              "      --hover-fill-color: #FFFFFF;\n",
              "      --disabled-bg-color: #3B4455;\n",
              "      --disabled-fill-color: #666;\n",
              "  }\n",
              "\n",
              "  .colab-df-quickchart {\n",
              "    background-color: var(--bg-color);\n",
              "    border: none;\n",
              "    border-radius: 50%;\n",
              "    cursor: pointer;\n",
              "    display: none;\n",
              "    fill: var(--fill-color);\n",
              "    height: 32px;\n",
              "    padding: 0;\n",
              "    width: 32px;\n",
              "  }\n",
              "\n",
              "  .colab-df-quickchart:hover {\n",
              "    background-color: var(--hover-bg-color);\n",
              "    box-shadow: 0 1px 2px rgba(60, 64, 67, 0.3), 0 1px 3px 1px rgba(60, 64, 67, 0.15);\n",
              "    fill: var(--button-hover-fill-color);\n",
              "  }\n",
              "\n",
              "  .colab-df-quickchart-complete:disabled,\n",
              "  .colab-df-quickchart-complete:disabled:hover {\n",
              "    background-color: var(--disabled-bg-color);\n",
              "    fill: var(--disabled-fill-color);\n",
              "    box-shadow: none;\n",
              "  }\n",
              "\n",
              "  .colab-df-spinner {\n",
              "    border: 2px solid var(--fill-color);\n",
              "    border-color: transparent;\n",
              "    border-bottom-color: var(--fill-color);\n",
              "    animation:\n",
              "      spin 1s steps(1) infinite;\n",
              "  }\n",
              "\n",
              "  @keyframes spin {\n",
              "    0% {\n",
              "      border-color: transparent;\n",
              "      border-bottom-color: var(--fill-color);\n",
              "      border-left-color: var(--fill-color);\n",
              "    }\n",
              "    20% {\n",
              "      border-color: transparent;\n",
              "      border-left-color: var(--fill-color);\n",
              "      border-top-color: var(--fill-color);\n",
              "    }\n",
              "    30% {\n",
              "      border-color: transparent;\n",
              "      border-left-color: var(--fill-color);\n",
              "      border-top-color: var(--fill-color);\n",
              "      border-right-color: var(--fill-color);\n",
              "    }\n",
              "    40% {\n",
              "      border-color: transparent;\n",
              "      border-right-color: var(--fill-color);\n",
              "      border-top-color: var(--fill-color);\n",
              "    }\n",
              "    60% {\n",
              "      border-color: transparent;\n",
              "      border-right-color: var(--fill-color);\n",
              "    }\n",
              "    80% {\n",
              "      border-color: transparent;\n",
              "      border-right-color: var(--fill-color);\n",
              "      border-bottom-color: var(--fill-color);\n",
              "    }\n",
              "    90% {\n",
              "      border-color: transparent;\n",
              "      border-bottom-color: var(--fill-color);\n",
              "    }\n",
              "  }\n",
              "</style>\n",
              "\n",
              "  <script>\n",
              "    async function quickchart(key) {\n",
              "      const quickchartButtonEl =\n",
              "        document.querySelector('#' + key + ' button');\n",
              "      quickchartButtonEl.disabled = true;  // To prevent multiple clicks.\n",
              "      quickchartButtonEl.classList.add('colab-df-spinner');\n",
              "      try {\n",
              "        const charts = await google.colab.kernel.invokeFunction(\n",
              "            'suggestCharts', [key], {});\n",
              "      } catch (error) {\n",
              "        console.error('Error during call to suggestCharts:', error);\n",
              "      }\n",
              "      quickchartButtonEl.classList.remove('colab-df-spinner');\n",
              "      quickchartButtonEl.classList.add('colab-df-quickchart-complete');\n",
              "    }\n",
              "    (() => {\n",
              "      let quickchartButtonEl =\n",
              "        document.querySelector('#df-f4ec73c1-e71e-4a5d-963f-43a45b2b4403 button');\n",
              "      quickchartButtonEl.style.display =\n",
              "        google.colab.kernel.accessAllowed ? 'block' : 'none';\n",
              "    })();\n",
              "  </script>\n",
              "</div>\n",
              "    </div>\n",
              "  </div>\n"
            ]
          },
          "metadata": {},
          "execution_count": 168
        }
      ]
    },
    {
      "cell_type": "markdown",
      "source": [
        "Сравним средние в измененной метрике и дисперсии:\n"
      ],
      "metadata": {
        "id": "JEWeL_30Fmpd"
      }
    },
    {
      "cell_type": "code",
      "source": [
        "def print_group_mean_var(df, metric):\n",
        "    group_a_var = df[df.group == \"A\"][metric].var()\n",
        "    group_b_var = df[df.group == \"B\"][metric].var()\n",
        "    group_a_cuped_var = df[df.group == \"A\"][f\"{metric}_cuped\"].var()\n",
        "    group_b_cuped_var = df[df.group == \"B\"][f\"{metric}_cuped\"].var()\n",
        "\n",
        "    group_a_mean = df[df.group == \"A\"][metric].mean()\n",
        "    group_b_mean = df[df.group == \"B\"][metric].mean()\n",
        "    group_a_cuped_mean = df[df.group == \"A\"][f\"{metric}_cuped\"].mean()\n",
        "    group_b_cuped_mean = df[df.group == \"B\"][f\"{metric}_cuped\"].mean()\n",
        "\n",
        "    print('Сравним средние:')\n",
        "    print(f\"метрика_cuped A: {group_a_cuped_mean}, метрика_cuped B: {group_b_cuped_mean}\")\n",
        "    print(f\"метрика без cuped A: {group_a_mean}, метрика без cuped B: {group_b_mean}\")\n",
        "    print('\\nСравним дисперсии:')\n",
        "    print(f\"метрика_cuped A: {group_a_cuped_var}, метрика_cuped B: {group_b_cuped_var}\")\n",
        "    print(f\"метрика без cuped A: {group_a_var}, метрика без cuped B: {group_b_var}\")\n",
        "    print(f\"разница метрика A и метрика_cuped A: {group_a_var - group_a_cuped_var}\")\n",
        "    print(f\"разница метрика B и метрика_cuped B: {group_b_var - group_b_cuped_var}\")"
      ],
      "metadata": {
        "id": "XMpVJ96dPRtQ"
      },
      "execution_count": 169,
      "outputs": []
    },
    {
      "cell_type": "code",
      "source": [
        "print_group_mean_var(shop_metrics_all_cuped, 'cart_added_cnt')"
      ],
      "metadata": {
        "colab": {
          "base_uri": "https://localhost:8080/"
        },
        "id": "x0V_oVbaQZb6",
        "outputId": "80391213-2355-491f-94a3-4a8f4346f225"
      },
      "execution_count": 171,
      "outputs": [
        {
          "output_type": "stream",
          "name": "stdout",
          "text": [
            "Сравним средние:\n",
            "метрика_cuped A: 0.136382315726573, метрика_cuped B: 0.1372102898471418\n",
            "метрика без cuped A: 0.1350419058398685, метрика без cuped B: 0.1385521582733813\n",
            "\n",
            "Сравним дисперсии:\n",
            "метрика_cuped A: 0.01823518359964534, метрика_cuped B: 0.02149536345539653\n",
            "метрика без cuped A: 0.3805867322090304, метрика без cuped B: 0.4247189893567569\n",
            "разница метрика A и метрика_cuped A: 0.36235154860938507\n",
            "разница метрика B и метрика_cuped B: 0.40322362590136035\n"
          ]
        }
      ]
    },
    {
      "cell_type": "markdown",
      "source": [
        "Среднии сохранились, дисперсии сильно сократилась"
      ],
      "metadata": {
        "id": "Xl58f17wFnx3"
      }
    },
    {
      "cell_type": "markdown",
      "source": [
        "Проверим, как на измененной метрике покажет себя t-test:\n"
      ],
      "metadata": {
        "id": "Dx56ZiEuF4Ne"
      }
    },
    {
      "cell_type": "code",
      "source": [
        "stats.ttest_ind(shop_metrics_all_cuped[shop_metrics_all_cuped.group == 'A']['cart_added_cnt_cuped'],\n",
        "                shop_metrics_all_cuped[shop_metrics_all_cuped.group == 'B']['cart_added_cnt_cuped'])"
      ],
      "metadata": {
        "colab": {
          "base_uri": "https://localhost:8080/"
        },
        "id": "cLVjq-i0Ff4x",
        "outputId": "f1e64d38-7641-4be4-d8a9-5d96ab269b3f"
      },
      "execution_count": 108,
      "outputs": [
        {
          "output_type": "execute_result",
          "data": {
            "text/plain": [
              "TtestResult(statistic=-1.3855896128447498, pvalue=0.16587364048767594, df=222519.0)"
            ]
          },
          "metadata": {},
          "execution_count": 108
        }
      ]
    },
    {
      "cell_type": "markdown",
      "source": [
        "t-test также указывает на отсутствие значимых различий, p value сократился, но не сильно"
      ],
      "metadata": {
        "id": "WlD9JhJHMbnP"
      }
    },
    {
      "cell_type": "markdown",
      "source": [
        "Посмотрим на мощность при эффекте в 1%"
      ],
      "metadata": {
        "id": "-c6Jy-a1LEj7"
      }
    },
    {
      "cell_type": "code",
      "source": [
        "correctness = []\n",
        "power = []\n",
        "\n",
        "for i in tqdm(range(100)):\n",
        "\n",
        "    new_group = groups_splitter(shop.copy(), user_salt=salt_generator())\n",
        "    new_df = pd.merge(shop, new_group, how=\"left\", on=['user_id']).drop_duplicates()\n",
        "    all_df = pd.merge(new_df, shop_metrics_old[['user_id', 'cart_added_cnt']], on=['user_id'], how='left')\n",
        "    all_df = all_df.rename(columns={'cart_added_cnt_x': 'cart_added_cnt', 'cart_added_cnt_y': 'cart_added_cnt_covariate'})\n",
        "\n",
        "    cuped_df = cuped_transform(all_df, ['cart_added_cnt'])\n",
        "\n",
        "    vec_a = cuped_df[(cuped_df['group'] == 'A')]['cart_added_cnt_cuped']\n",
        "    vec_b = cuped_df[(cuped_df['group'] == 'B')]['cart_added_cnt_cuped']\n",
        "\n",
        "    vec_b_effect = vec_b * 1.01\n",
        "\n",
        "    p_cor, p_power = stats.ttest_ind(vec_a, vec_b)[1], stats.ttest_ind(vec_a, vec_b_effect)[1]\n",
        "    correctness.append(p_cor)\n",
        "    power.append(p_power)\n",
        "\n",
        "correctness = np.array(correctness)\n",
        "sns.set(rc={'figure.figsize':(4.7,4.27)})\n",
        "sns.histplot(data=correctness, bins=10, color='brown', kde=True)\n",
        "\n",
        "power = np.array(power)\n",
        "check_uniform(correctness)\n",
        "print(f' power: {(power[power < 0.05].shape[0] / power.shape[0]) * 100}% , correctness: {(1 - (correctness[correctness < 0.05].shape[0] / correctness.shape[0])) * 100}%')"
      ],
      "metadata": {
        "colab": {
          "base_uri": "https://localhost:8080/",
          "height": 445
        },
        "id": "8UuSUi4cLDsO",
        "outputId": "fa9073ed-6a97-4937-b159-2e3f42799dff"
      },
      "execution_count": 203,
      "outputs": [
        {
          "output_type": "stream",
          "name": "stderr",
          "text": [
            "100%|██████████| 100/100 [02:27<00:00,  1.47s/it]\n"
          ]
        },
        {
          "output_type": "stream",
          "name": "stdout",
          "text": [
            "p_value = 0.301596833793696 - p_values равномерное распределение\n",
            " power: 65.0% , correctness: 98.0%\n"
          ]
        },
        {
          "output_type": "display_data",
          "data": {
            "text/plain": [
              "<Figure size 470x427 with 1 Axes>"
            ],
            "image/png": "[encoded data removed]"
          },
          "metadata": {}
        }
      ]
    },
    {
      "cell_type": "markdown",
      "source": [
        "##### Перейдем к логарифмированию"
      ],
      "metadata": {
        "id": "8ZMs1ClqPDP1"
      }
    },
    {
      "cell_type": "code",
      "source": [
        "# прологорифмируем\n",
        "shop_metrics_all['cart_added_cnt_ln'] = np.log(shop_metrics_all['cart_added_cnt'] + 1)\n",
        "shop_metrics_all['cart_added_cnt_ln_covariate'] = np.log(shop_metrics_all['cart_added_cnt_covariate'] + 1)\n",
        "\n",
        "# трансформируем метрику\n",
        "shop_metrics_all_ln_cuped = cuped_transform(shop_metrics_all.copy(), ['cart_added_cnt_ln'])"
      ],
      "metadata": {
        "id": "tAPgXCAaAFoJ"
      },
      "execution_count": 144,
      "outputs": []
    },
    {
      "cell_type": "code",
      "source": [
        "# посмотрим на t-test\n",
        "stats.ttest_ind(shop_metrics_all_ln_cuped[shop_metrics_all_ln_cuped.group == 'A']['cart_added_cnt_ln'],\n",
        "                shop_metrics_all_ln_cuped[shop_metrics_all_ln_cuped.group == 'B']['cart_added_cnt_ln'])"
      ],
      "metadata": {
        "colab": {
          "base_uri": "https://localhost:8080/"
        },
        "id": "Kt1LHlp3T7yI",
        "outputId": "b025a512-6079-4a61-f2f2-67c6756015d6"
      },
      "execution_count": 152,
      "outputs": [
        {
          "output_type": "execute_result",
          "data": {
            "text/plain": [
              "TtestResult(statistic=-1.4539361335316499, pvalue=0.14596542412011718, df=222519.0)"
            ]
          },
          "metadata": {},
          "execution_count": 152
        }
      ]
    },
    {
      "cell_type": "markdown",
      "source": [
        "Логарифмирование снизило p-value, на группы по прежнему не имеют значимых отличий"
      ],
      "metadata": {
        "id": "w0NF4pXMUCuO"
      }
    },
    {
      "cell_type": "markdown",
      "source": [
        "Сравним средние в измененной метрике и дисперсии:"
      ],
      "metadata": {
        "id": "3Y2oks3jStiI"
      }
    },
    {
      "cell_type": "code",
      "source": [
        "print_group_mean_var(shop_metrics_all_ln_cuped, 'cart_added_cnt_ln')"
      ],
      "metadata": {
        "colab": {
          "base_uri": "https://localhost:8080/"
        },
        "id": "yGm3mNHzTs9A",
        "outputId": "b8128a92-f7d1-48cf-eb1a-a753a8bec967"
      },
      "execution_count": 170,
      "outputs": [
        {
          "output_type": "stream",
          "name": "stdout",
          "text": [
            "Сравним средние:\n",
            "метрика_cuped A: 0.08034157852348373, метрика_cuped B: 0.08072086382541538\n",
            "метрика без cuped A: 0.07974289062640032, метрика без cuped B: 0.08132020317245879\n",
            "\n",
            "Сравним дисперсии:\n",
            "метрика_cuped A: 0.002055014378642915, метрика_cuped B: 0.0017558187333519104\n",
            "метрика без cuped A: 0.06466232955752058, метрика без cuped B: 0.06628259108478471\n",
            "разница метрика A и метрика_cuped A: 0.06260731517887766\n",
            "разница метрика B и метрика_cuped B: 0.0645267723514328\n"
          ]
        }
      ]
    },
    {
      "cell_type": "markdown",
      "source": [
        "Средние сохранились, а дисперсии сократились => понимаем, почему снизился p-value"
      ],
      "metadata": {
        "id": "k_VP5Y9IT16K"
      }
    },
    {
      "cell_type": "markdown",
      "source": [
        "Посмотрим на мощность:"
      ],
      "metadata": {
        "id": "Xzf6tJLgUaCy"
      }
    },
    {
      "cell_type": "code",
      "source": [
        "correctness = []\n",
        "power = []\n",
        "\n",
        "for i in tqdm(range(100)):\n",
        "\n",
        "    new_group = groups_splitter(shop.copy(), user_salt=salt_generator())\n",
        "    new_df = pd.merge(shop, new_group, how=\"left\", on=['user_id']).drop_duplicates()\n",
        "    all_df = pd.merge(new_df, shop_metrics_old[['user_id', 'cart_added_cnt']], on=['user_id'], how='left')\n",
        "    all_df = all_df.rename(columns={'cart_added_cnt_x': 'cart_added_cnt', 'cart_added_cnt_y': 'cart_added_cnt_covariate'})\n",
        "\n",
        "    all_df['cart_added_cnt_ln'] = np.log(all_df['cart_added_cnt'] + 1)\n",
        "    all_df['cart_added_cnt_ln_covariate'] = np.log(all_df['cart_added_cnt_covariate'] + 1)\n",
        "\n",
        "    cuped_df = cuped_transform(all_df, ['cart_added_cnt_ln'])\n",
        "\n",
        "    vec_a = cuped_df[(cuped_df['group'] == 'A')]['cart_added_cnt_ln_cuped']\n",
        "    vec_b = cuped_df[(cuped_df['group'] == 'B')]['cart_added_cnt_ln_cuped']\n",
        "    vec_b_effect = vec_b * np.log(1.01)\n",
        "\n",
        "    # vec_b_effect_ln = np.log(vec_b_effect + 1)\n",
        "\n",
        "    p_cor, p_power = stats.ttest_ind(vec_a, vec_b)[1], stats.ttest_ind(vec_a, vec_b_effect)[1]\n",
        "    correctness.append(p_cor)\n",
        "    power.append(p_power)\n",
        "\n",
        "correctness = np.array(correctness)\n",
        "sns.set(rc={'figure.figsize':(4.7,4.27)})\n",
        "sns.histplot(data=correctness, bins=10, color='brown', kde=True)\n",
        "\n",
        "power = np.array(power)\n",
        "check_uniform(correctness)\n",
        "\n",
        "print(f' power: {(power[power < 0.05].shape[0] / power.shape[0]) * 100}% , correctness: {(1 - (correctness[correctness < 0.05].shape[0] / correctness.shape[0])) * 100}%')"
      ],
      "metadata": {
        "colab": {
          "base_uri": "https://localhost:8080/",
          "height": 445
        },
        "id": "_Ip9ulETNLko",
        "outputId": "c49f86d7-c9d8-47a0-d657-6ad760ae32f8"
      },
      "execution_count": 204,
      "outputs": [
        {
          "output_type": "stream",
          "name": "stderr",
          "text": [
            "100%|██████████| 100/100 [02:38<00:00,  1.59s/it]\n"
          ]
        },
        {
          "output_type": "stream",
          "name": "stdout",
          "text": [
            "p_value = 0.5895009392355524 - p_values равномерное распределение\n",
            " power: 100.0% , correctness: 97.0%\n"
          ]
        },
        {
          "output_type": "display_data",
          "data": {
            "text/plain": [
              "<Figure size 470x427 with 1 Axes>"
            ],
            "image/png": "[encoded data removed]"
          },
          "metadata": {}
        }
      ]
    },
    {
      "cell_type": "markdown",
      "source": [
        "После логарифмирования мощность"
      ],
      "metadata": {
        "id": "-xbXEteFOW3o"
      }
    },
    {
      "cell_type": "markdown",
      "source": [
        "##### Реализовать cuped-трансформацию на метрике cart_added_cnt и подвергнем ее ранговому преобразованию"
      ],
      "metadata": {
        "id": "ve2iZkNJYSz0"
      }
    },
    {
      "cell_type": "code",
      "source": [
        "shop_metrics_all_cuped = cuped_transform(shop_metrics_all.copy(), ['cart_added_cnt'])\n",
        "\n",
        "ranked = rank_transformation(shop_metrics_all_cuped[shop_metrics_all_cuped.group == 'A'],\n",
        "                             shop_metrics_all_cuped[shop_metrics_all_cuped.group == 'B'], 'cart_added_cnt_cuped')"
      ],
      "metadata": {
        "id": "8OVM3uiBYlja"
      },
      "execution_count": 182,
      "outputs": []
    },
    {
      "cell_type": "code",
      "source": [
        "stats.ttest_ind(ranked[ranked.group == 'A']['rank'], ranked[ranked.group == 'B']['rank'])"
      ],
      "metadata": {
        "colab": {
          "base_uri": "https://localhost:8080/"
        },
        "id": "tFFBE12UaIj2",
        "outputId": "65fab3c5-a74b-4e63-bafd-009fce55b008"
      },
      "execution_count": 183,
      "outputs": [
        {
          "output_type": "execute_result",
          "data": {
            "text/plain": [
              "TtestResult(statistic=-1.4459909525623789, pvalue=0.14818114788143422, df=222519.0)"
            ]
          },
          "metadata": {},
          "execution_count": 183
        }
      ]
    },
    {
      "cell_type": "code",
      "source": [
        "correctness = []\n",
        "power = []\n",
        "\n",
        "for i in tqdm(range(100)):\n",
        "\n",
        "    new_group = groups_splitter(shop.copy(), user_salt=salt_generator())\n",
        "    new_df = pd.merge(shop, new_group, how=\"left\", on=['user_id']).drop_duplicates()\n",
        "    all_df = pd.merge(new_df, shop_metrics_old[['user_id', 'cart_added_cnt']], on=['user_id'], how='left')\n",
        "    all_df = all_df.rename(columns={'cart_added_cnt_x': 'cart_added_cnt', 'cart_added_cnt_y': 'cart_added_cnt_covariate'})\n",
        "\n",
        "    cuped_df = cuped_transform(all_df, ['cart_added_cnt'])\n",
        "    ranked = rank_transformation(cuped_df[cuped_df.group == 'A'],\n",
        "                                 cuped_df[cuped_df.group == 'B'], 'cart_added_cnt_cuped')\n",
        "\n",
        "    vec_a = ranked[(ranked['group'] == 'A')]['rank']\n",
        "    vec_b = ranked[(ranked['group'] == 'B')]['rank']\n",
        "    vec_b_effect = vec_b * 1.01\n",
        "\n",
        "    p_cor, p_power = stats.ttest_ind(vec_a, vec_b)[1], stats.ttest_ind(vec_a, vec_b_effect)[1]\n",
        "    correctness.append(p_cor)\n",
        "    power.append(p_power)\n",
        "\n",
        "correctness = np.array(correctness)\n",
        "sns.set(rc={'figure.figsize':(4.7,4.27)})\n",
        "sns.histplot(data=correctness, bins=10, color='brown', kde=True)\n",
        "\n",
        "power = np.array(power)\n",
        "check_uniform(correctness)\n",
        "\n",
        "print(f' power: {(power[power < 0.05].shape[0] / power.shape[0]) * 100}% , correctness: {(1 - (correctness[correctness < 0.05].shape[0] / correctness.shape[0])) * 100}%')"
      ],
      "metadata": {
        "colab": {
          "base_uri": "https://localhost:8080/",
          "height": 445
        },
        "id": "63DY2KT6oQ1N",
        "outputId": "dc419b08-75d7-485d-8948-db0b90257892"
      },
      "execution_count": 205,
      "outputs": [
        {
          "output_type": "stream",
          "name": "stderr",
          "text": [
            "100%|██████████| 100/100 [03:11<00:00,  1.91s/it]\n"
          ]
        },
        {
          "output_type": "stream",
          "name": "stdout",
          "text": [
            "p_value = 0.10203644120213044 - p_values равномерное распределение\n",
            " power: 100.0% , correctness: 95.0%\n"
          ]
        },
        {
          "output_type": "display_data",
          "data": {
            "text/plain": [
              "<Figure size 470x427 with 1 Axes>"
            ],
            "image/png": "[encoded data removed]"
          },
          "metadata": {}
        }
      ]
    },
    {
      "cell_type": "markdown",
      "source": [
        "Мощность и корректность сопоставима с логарифмированием"
      ],
      "metadata": {
        "id": "7LnKgKuWOpxp"
      }
    },
    {
      "cell_type": "markdown",
      "source": [
        "#### Реализовать разбивку на бакеты, оценить t-критерием и сравнить с результатом без бакетирования:\n",
        "\n",
        "* на логнормальном распределении (сгенерированные данные)\n",
        "* на метрике cart_added_cnt (2 балла)"
      ],
      "metadata": {
        "id": "oHs52J_oaRK4"
      }
    },
    {
      "cell_type": "code",
      "source": [
        "# Генерируем логнормальное распределение\n",
        "data = np.random.lognormal(0, 1, 100_000)"
      ],
      "metadata": {
        "id": "rI2thjpweYOl"
      },
      "execution_count": 187,
      "outputs": []
    },
    {
      "cell_type": "code",
      "source": [
        "# Разбиваем данные на равные бакеты\n",
        "num_buckets = 10000\n",
        "sorted_data = np.sort(data)\n",
        "bucket_edges = [stats.scoreatpercentile(sorted_data, i * (100 / num_buckets)) for i in range(num_buckets + 1)]\n",
        "buckets = [sorted_data[(sorted_data >= bucket_edges[i]) & (sorted_data < bucket_edges[i+1])] for i in range(num_buckets)]"
      ],
      "metadata": {
        "id": "Z6eMYeCLefU4"
      },
      "execution_count": 188,
      "outputs": []
    },
    {
      "cell_type": "code",
      "source": [
        "# Берем среднее значение для каждого бакета\n",
        "bucket_means = [np.mean(bucket_data) for bucket_data in buckets]"
      ],
      "metadata": {
        "id": "mnggKXxhm14W"
      },
      "execution_count": 189,
      "outputs": []
    },
    {
      "cell_type": "code",
      "source": [
        "data = pd.DataFrame({\"user_id\": np.arange(len(data)), \"metric\": data})\n",
        "data_bucket_means = pd.DataFrame({\"user_id\": np.arange(len(bucket_means)), \"metric\": bucket_means})\n",
        "data_bucket_means.head()"
      ],
      "metadata": {
        "colab": {
          "base_uri": "https://localhost:8080/",
          "height": 206
        },
        "id": "P-ryl3WQfhpF",
        "outputId": "f04c63b1-c1fb-465f-f3a2-014bcec7a9ee"
      },
      "execution_count": 190,
      "outputs": [
        {
          "output_type": "execute_result",
          "data": {
            "text/plain": [
              "   user_id    metric\n",
              "0        0  0.019604\n",
              "1        1  0.026768\n",
              "2        2  0.030756\n",
              "3        3  0.032765\n",
              "4        4  0.034948"
            ],
            "text/html": [
              "\n",
              "  <div id=\"df-43c91a64-327f-4236-a4cc-203fc8b2f1a5\" class=\"colab-df-container\">\n",
              "    <div>\n",
              "<style scoped>\n",
              "    .dataframe tbody tr th:only-of-type {\n",
              "        vertical-align: middle;\n",
              "    }\n",
              "\n",
              "    .dataframe tbody tr th {\n",
              "        vertical-align: top;\n",
              "    }\n",
              "\n",
              "    .dataframe thead th {\n",
              "        text-align: right;\n",
              "    }\n",
              "</style>\n",
              "<table border=\"1\" class=\"dataframe\">\n",
              "  <thead>\n",
              "    <tr style=\"text-align: right;\">\n",
              "      <th></th>\n",
              "      <th>user_id</th>\n",
              "      <th>metric</th>\n",
              "    </tr>\n",
              "  </thead>\n",
              "  <tbody>\n",
              "    <tr>\n",
              "      <th>0</th>\n",
              "      <td>0</td>\n",
              "      <td>0.019604</td>\n",
              "    </tr>\n",
              "    <tr>\n",
              "      <th>1</th>\n",
              "      <td>1</td>\n",
              "      <td>0.026768</td>\n",
              "    </tr>\n",
              "    <tr>\n",
              "      <th>2</th>\n",
              "      <td>2</td>\n",
              "      <td>0.030756</td>\n",
              "    </tr>\n",
              "    <tr>\n",
              "      <th>3</th>\n",
              "      <td>3</td>\n",
              "      <td>0.032765</td>\n",
              "    </tr>\n",
              "    <tr>\n",
              "      <th>4</th>\n",
              "      <td>4</td>\n",
              "      <td>0.034948</td>\n",
              "    </tr>\n",
              "  </tbody>\n",
              "</table>\n",
              "</div>\n",
              "    <div class=\"colab-df-buttons\">\n",
              "\n",
              "  <div class=\"colab-df-container\">\n",
              "    <button class=\"colab-df-convert\" onclick=\"convertToInteractive('df-43c91a64-327f-4236-a4cc-203fc8b2f1a5')\"\n",
              "            title=\"Convert this dataframe to an interactive table.\"\n",
              "            style=\"display:none;\">\n",
              "\n",
              "  <svg xmlns=\"http://www.w3.org/2000/svg\" height=\"24px\" viewBox=\"0 -960 960 960\">\n",
              "    <path d=\"M120-120v-720h720v720H120Zm60-500h600v-160H180v160Zm220 220h160v-160H400v160Zm0 220h160v-160H400v160ZM180-400h160v-160H180v160Zm440 0h160v-160H620v160ZM180-180h160v-160H180v160Zm440 0h160v-160H620v160Z\"/>\n",
              "  </svg>\n",
              "    </button>\n",
              "\n",
              "  <style>\n",
              "    .colab-df-container {\n",
              "      display:flex;\n",
              "      gap: 12px;\n",
              "    }\n",
              "\n",
              "    .colab-df-convert {\n",
              "      background-color: #E8F0FE;\n",
              "      border: none;\n",
              "      border-radius: 50%;\n",
              "      cursor: pointer;\n",
              "      display: none;\n",
              "      fill: #1967D2;\n",
              "      height: 32px;\n",
              "      padding: 0 0 0 0;\n",
              "      width: 32px;\n",
              "    }\n",
              "\n",
              "    .colab-df-convert:hover {\n",
              "      background-color: #E2EBFA;\n",
              "      box-shadow: 0px 1px 2px rgba(60, 64, 67, 0.3), 0px 1px 3px 1px rgba(60, 64, 67, 0.15);\n",
              "      fill: #174EA6;\n",
              "    }\n",
              "\n",
              "    .colab-df-buttons div {\n",
              "      margin-bottom: 4px;\n",
              "    }\n",
              "\n",
              "    [theme=dark] .colab-df-convert {\n",
              "      background-color: #3B4455;\n",
              "      fill: #D2E3FC;\n",
              "    }\n",
              "\n",
              "    [theme=dark] .colab-df-convert:hover {\n",
              "      background-color: #434B5C;\n",
              "      box-shadow: 0px 1px 3px 1px rgba(0, 0, 0, 0.15);\n",
              "      filter: drop-shadow(0px 1px 2px rgba(0, 0, 0, 0.3));\n",
              "      fill: #FFFFFF;\n",
              "    }\n",
              "  </style>\n",
              "\n",
              "    <script>\n",
              "      const buttonEl =\n",
              "        document.querySelector('#df-43c91a64-327f-4236-a4cc-203fc8b2f1a5 button.colab-df-convert');\n",
              "      buttonEl.style.display =\n",
              "        google.colab.kernel.accessAllowed ? 'block' : 'none';\n",
              "\n",
              "      async function convertToInteractive(key) {\n",
              "        const element = document.querySelector('#df-43c91a64-327f-4236-a4cc-203fc8b2f1a5');\n",
              "        const dataTable =\n",
              "          await google.colab.kernel.invokeFunction('convertToInteractive',\n",
              "                                                    [key], {});\n",
              "        if (!dataTable) return;\n",
              "\n",
              "        const docLinkHtml = 'Like what you see? Visit the ' +\n",
              "          '<a target=\"_blank\" href=https://colab.research.google.com/notebooks/data_table.ipynb>data table notebook</a>'\n",
              "          + ' to learn more about interactive tables.';\n",
              "        element.innerHTML = '';\n",
              "        dataTable['output_type'] = 'display_data';\n",
              "        await google.colab.output.renderOutput(dataTable, element);\n",
              "        const docLink = document.createElement('div');\n",
              "        docLink.innerHTML = docLinkHtml;\n",
              "        element.appendChild(docLink);\n",
              "      }\n",
              "    </script>\n",
              "  </div>\n",
              "\n",
              "\n",
              "<div id=\"df-8b306f7b-8b14-49c5-abde-b8ecd5558efb\">\n",
              "  <button class=\"colab-df-quickchart\" onclick=\"quickchart('df-8b306f7b-8b14-49c5-abde-b8ecd5558efb')\"\n",
              "            title=\"Suggest charts\"\n",
              "            style=\"display:none;\">\n",
              "\n",
              "<svg xmlns=\"http://www.w3.org/2000/svg\" height=\"24px\"viewBox=\"0 0 24 24\"\n",
              "     width=\"24px\">\n",
              "    <g>\n",
              "        <path d=\"M19 3H5c-1.1 0-2 .9-2 2v14c0 1.1.9 2 2 2h14c1.1 0 2-.9 2-2V5c0-1.1-.9-2-2-2zM9 17H7v-7h2v7zm4 0h-2V7h2v10zm4 0h-2v-4h2v4z\"/>\n",
              "    </g>\n",
              "</svg>\n",
              "  </button>\n",
              "\n",
              "<style>\n",
              "  .colab-df-quickchart {\n",
              "      --bg-color: #E8F0FE;\n",
              "      --fill-color: #1967D2;\n",
              "      --hover-bg-color: #E2EBFA;\n",
              "      --hover-fill-color: #174EA6;\n",
              "      --disabled-fill-color: #AAA;\n",
              "      --disabled-bg-color: #DDD;\n",
              "  }\n",
              "\n",
              "  [theme=dark] .colab-df-quickchart {\n",
              "      --bg-color: #3B4455;\n",
              "      --fill-color: #D2E3FC;\n",
              "      --hover-bg-color: #434B5C;\n",
              "      --hover-fill-color: #FFFFFF;\n",
              "      --disabled-bg-color: #3B4455;\n",
              "      --disabled-fill-color: #666;\n",
              "  }\n",
              "\n",
              "  .colab-df-quickchart {\n",
              "    background-color: var(--bg-color);\n",
              "    border: none;\n",
              "    border-radius: 50%;\n",
              "    cursor: pointer;\n",
              "    display: none;\n",
              "    fill: var(--fill-color);\n",
              "    height: 32px;\n",
              "    padding: 0;\n",
              "    width: 32px;\n",
              "  }\n",
              "\n",
              "  .colab-df-quickchart:hover {\n",
              "    background-color: var(--hover-bg-color);\n",
              "    box-shadow: 0 1px 2px rgba(60, 64, 67, 0.3), 0 1px 3px 1px rgba(60, 64, 67, 0.15);\n",
              "    fill: var(--button-hover-fill-color);\n",
              "  }\n",
              "\n",
              "  .colab-df-quickchart-complete:disabled,\n",
              "  .colab-df-quickchart-complete:disabled:hover {\n",
              "    background-color: var(--disabled-bg-color);\n",
              "    fill: var(--disabled-fill-color);\n",
              "    box-shadow: none;\n",
              "  }\n",
              "\n",
              "  .colab-df-spinner {\n",
              "    border: 2px solid var(--fill-color);\n",
              "    border-color: transparent;\n",
              "    border-bottom-color: var(--fill-color);\n",
              "    animation:\n",
              "      spin 1s steps(1) infinite;\n",
              "  }\n",
              "\n",
              "  @keyframes spin {\n",
              "    0% {\n",
              "      border-color: transparent;\n",
              "      border-bottom-color: var(--fill-color);\n",
              "      border-left-color: var(--fill-color);\n",
              "    }\n",
              "    20% {\n",
              "      border-color: transparent;\n",
              "      border-left-color: var(--fill-color);\n",
              "      border-top-color: var(--fill-color);\n",
              "    }\n",
              "    30% {\n",
              "      border-color: transparent;\n",
              "      border-left-color: var(--fill-color);\n",
              "      border-top-color: var(--fill-color);\n",
              "      border-right-color: var(--fill-color);\n",
              "    }\n",
              "    40% {\n",
              "      border-color: transparent;\n",
              "      border-right-color: var(--fill-color);\n",
              "      border-top-color: var(--fill-color);\n",
              "    }\n",
              "    60% {\n",
              "      border-color: transparent;\n",
              "      border-right-color: var(--fill-color);\n",
              "    }\n",
              "    80% {\n",
              "      border-color: transparent;\n",
              "      border-right-color: var(--fill-color);\n",
              "      border-bottom-color: var(--fill-color);\n",
              "    }\n",
              "    90% {\n",
              "      border-color: transparent;\n",
              "      border-bottom-color: var(--fill-color);\n",
              "    }\n",
              "  }\n",
              "</style>\n",
              "\n",
              "  <script>\n",
              "    async function quickchart(key) {\n",
              "      const quickchartButtonEl =\n",
              "        document.querySelector('#' + key + ' button');\n",
              "      quickchartButtonEl.disabled = true;  // To prevent multiple clicks.\n",
              "      quickchartButtonEl.classList.add('colab-df-spinner');\n",
              "      try {\n",
              "        const charts = await google.colab.kernel.invokeFunction(\n",
              "            'suggestCharts', [key], {});\n",
              "      } catch (error) {\n",
              "        console.error('Error during call to suggestCharts:', error);\n",
              "      }\n",
              "      quickchartButtonEl.classList.remove('colab-df-spinner');\n",
              "      quickchartButtonEl.classList.add('colab-df-quickchart-complete');\n",
              "    }\n",
              "    (() => {\n",
              "      let quickchartButtonEl =\n",
              "        document.querySelector('#df-8b306f7b-8b14-49c5-abde-b8ecd5558efb button');\n",
              "      quickchartButtonEl.style.display =\n",
              "        google.colab.kernel.accessAllowed ? 'block' : 'none';\n",
              "    })();\n",
              "  </script>\n",
              "</div>\n",
              "    </div>\n",
              "  </div>\n"
            ]
          },
          "metadata": {},
          "execution_count": 190
        }
      ]
    },
    {
      "cell_type": "markdown",
      "source": [
        "Посмотрим на мощность без бакетирования:"
      ],
      "metadata": {
        "id": "t1NNf_q3I1Z6"
      }
    },
    {
      "cell_type": "code",
      "source": [
        "correctness = []\n",
        "power = []\n",
        "\n",
        "for i in tqdm(range(100)):\n",
        "    new_group = groups_splitter(data.copy(), user_salt=salt_generator())\n",
        "    new_df = pd.merge(data, new_group, how=\"left\", on=['user_id']).drop_duplicates()\n",
        "\n",
        "    vec_a = new_df[(new_df['group'] == 'A')]['metric']\n",
        "    vec_b = new_df[(new_df['group'] == 'B')]['metric']\n",
        "\n",
        "    vec_b_effect = vec_b * 1.03\n",
        "\n",
        "    p_cor, p_power = stats.ttest_ind(vec_a, vec_b)[1], stats.ttest_ind(vec_a, vec_b_effect)[1]\n",
        "    correctness.append(p_cor)\n",
        "    power.append(p_power)\n",
        "\n",
        "correctness = np.array(correctness)\n",
        "sns.set(rc={'figure.figsize':(4.7,4.27)})\n",
        "sns.histplot(data=correctness, bins=10, color='brown', kde=True)\n",
        "\n",
        "power = np.array(power)\n",
        "\n",
        "print(f' power: {(power[power < 0.05].shape[0] / power.shape[0]) * 100}% , correctness: {(1 - (correctness[correctness < 0.05].shape[0] / correctness.shape[0])) * 100}%')"
      ],
      "metadata": {
        "colab": {
          "base_uri": "https://localhost:8080/",
          "height": 428
        },
        "id": "oYifHEvoyOnF",
        "outputId": "f6bd56bc-fce0-4ef1-993b-d836e9195bfc"
      },
      "execution_count": 44,
      "outputs": [
        {
          "output_type": "stream",
          "name": "stderr",
          "text": [
            "100%|██████████| 100/100 [01:00<00:00,  1.64it/s]\n"
          ]
        },
        {
          "output_type": "stream",
          "name": "stdout",
          "text": [
            " power: 100.0% , correctness: 96.0%\n"
          ]
        },
        {
          "output_type": "display_data",
          "data": {
            "text/plain": [
              "<Figure size 470x427 with 1 Axes>"
            ],
            "image/png": "[encoded data removed]"
          },
          "metadata": {}
        }
      ]
    },
    {
      "cell_type": "markdown",
      "source": [
        "С бакетированием:"
      ],
      "metadata": {
        "id": "bBjzDlsvIyPG"
      }
    },
    {
      "cell_type": "code",
      "source": [
        "correctness = []\n",
        "power = []\n",
        "\n",
        "for i in tqdm(range(100)):\n",
        "    new_group = groups_splitter(data_bucket_means.copy(), user_salt=salt_generator())\n",
        "    new_df = pd.merge(data_bucket_means, new_group, how=\"left\", on=['user_id']).drop_duplicates()\n",
        "\n",
        "    vec_a = new_df[(new_df['group'] == 'A')]['metric']\n",
        "    vec_b = new_df[(new_df['group'] == 'B')]['metric']\n",
        "\n",
        "    vec_b_effect = vec_b * 1.03\n",
        "\n",
        "    p_cor, p_power = stats.ttest_ind(vec_a, vec_b)[1], stats.ttest_ind(vec_a, vec_b_effect)[1]\n",
        "    correctness.append(p_cor)\n",
        "    power.append(p_power)\n",
        "\n",
        "correctness = np.array(correctness)\n",
        "sns.set(rc={'figure.figsize':(4.7,4.27)})\n",
        "sns.histplot(data=correctness, bins=10, color='brown', kde=True)\n",
        "\n",
        "power = np.array(power)\n",
        "\n",
        "print(f' power: {(power[power < 0.05].shape[0] / power.shape[0]) * 100}% , correctness: {(1 - (correctness[correctness < 0.05].shape[0] / correctness.shape[0])) * 100}%')"
      ],
      "metadata": {
        "colab": {
          "base_uri": "https://localhost:8080/",
          "height": 428
        },
        "id": "ucr80_tXp2Nc",
        "outputId": "1e03bcf2-c43a-4bcb-facc-dbc337b48a32"
      },
      "execution_count": 43,
      "outputs": [
        {
          "output_type": "stream",
          "name": "stderr",
          "text": [
            "100%|██████████| 100/100 [00:07<00:00, 14.14it/s]\n"
          ]
        },
        {
          "output_type": "stream",
          "name": "stdout",
          "text": [
            " power: 57.99999999999999% , correctness: 92.0%\n"
          ]
        },
        {
          "output_type": "display_data",
          "data": {
            "text/plain": [
              "<Figure size 470x427 with 1 Axes>"
            ],
            "image/png": "[encoded data removed]"
          },
          "metadata": {}
        }
      ]
    },
    {
      "cell_type": "markdown",
      "source": [
        "Мощность упала, но при увеличении кол-ва бакетов, она постепенно растет\n",
        "\n"
      ],
      "metadata": {
        "id": "iAGx3kOF0qRs"
      }
    },
    {
      "cell_type": "code",
      "source": [
        "def get_bucket(df, metric, bucket_size):\n",
        "    df_sorted = df.sort_values(by=metric).reset_index(drop=True)\n",
        "    bucket_size = len(df_sorted) // bucket_size\n",
        "    df_sorted['bucket'] = pd.qcut(df_sorted.index, q=bucket_size, labels=False, duplicates='drop')\n",
        "\n",
        "    df_sorted = df_sorted.groupby('bucket', as_index=False)[metric].mean()\n",
        "    df_sorted = df_sorted.rename(columns={\"bucket\": \"user_id\"})\n",
        "    return df_sorted"
      ],
      "metadata": {
        "id": "BfbrFiPr1Q1I"
      },
      "execution_count": 191,
      "outputs": []
    },
    {
      "cell_type": "markdown",
      "source": [
        "##### Реализовать разбивку на бакеты на метрике cart_added_cnt"
      ],
      "metadata": {
        "id": "yDyGcZ2g1RTm"
      }
    },
    {
      "cell_type": "code",
      "source": [
        "bucket_sizes = [100, 1000, 10000]\n",
        "correctness = [[] for _ in range(len(bucket_sizes))]\n",
        "powers = [[] for _ in range(len(bucket_sizes))]\n",
        "\n",
        "for idx, bucket_size in enumerate(bucket_sizes):\n",
        "    shop_bucket = get_bucket(shop.copy(), 'cart_added_cnt', bucket_size)\n",
        "\n",
        "    for i in tqdm(range(100)):\n",
        "\n",
        "        new_group = groups_splitter(shop.copy(), user_salt=salt_generator())\n",
        "        new_df = pd.merge(shop, new_group, how=\"left\", on=['user_id']).drop_duplicates()\n",
        "\n",
        "        vec_a = new_df[(new_df['group'] == 'A')]['cart_added_cnt']\n",
        "        vec_b = new_df[(new_df['group'] == 'B')]['cart_added_cnt']\n",
        "\n",
        "        vec_b_effect = vec_b * 1.03\n",
        "\n",
        "\n",
        "        p_cor, p_power = stats.ttest_ind(vec_a, vec_b)[1], stats.ttest_ind(vec_a, vec_b_effect)[1]\n",
        "        correctness[idx].append(p_cor)\n",
        "        powers[idx].append(p_power)\n",
        "\n",
        "    correctness[idx] = np.array(correctness[idx])\n",
        "    powers[idx] = np.array(powers[idx])\n",
        "\n",
        "    check_uniform(correctness[idx])\n",
        "    print(f'Мощность при bucket_size = {bucket_size}: {(powers[idx][powers[idx] < 0.05].shape[0] / powers[idx].shape[0]) * 100}%')\n",
        "    print(f'Корректность при bucket_size = {bucket_size}: {(1 - (correctness[idx][correctness[idx] < 0.05].shape[0] / correctness[idx].shape[0])) * 100}% \\n')"
      ],
      "metadata": {
        "colab": {
          "base_uri": "https://localhost:8080/"
        },
        "id": "L2Yd3N_V1EoQ",
        "outputId": "37b1b6b0-b035-4574-b0cf-13da41333e6d"
      },
      "execution_count": 192,
      "outputs": [
        {
          "output_type": "stream",
          "name": "stderr",
          "text": [
            "100%|██████████| 100/100 [01:59<00:00,  1.20s/it]\n"
          ]
        },
        {
          "output_type": "stream",
          "name": "stdout",
          "text": [
            "p_value = 0.35335432090058755 - p_values равномерное распределение\n",
            "Мощность при bucket_size = 100: 34.0%\n",
            "Корректность при bucket_size = 100: 94.0% \n",
            "\n"
          ]
        },
        {
          "output_type": "stream",
          "name": "stderr",
          "text": [
            "100%|██████████| 100/100 [01:53<00:00,  1.14s/it]\n"
          ]
        },
        {
          "output_type": "stream",
          "name": "stdout",
          "text": [
            "p_value = 0.9197870928891705 - p_values равномерное распределение\n",
            "Мощность при bucket_size = 1000: 37.0%\n",
            "Корректность при bucket_size = 1000: 97.0% \n",
            "\n"
          ]
        },
        {
          "output_type": "stream",
          "name": "stderr",
          "text": [
            "100%|██████████| 100/100 [01:52<00:00,  1.13s/it]"
          ]
        },
        {
          "output_type": "stream",
          "name": "stdout",
          "text": [
            "p_value = 0.19548247210847067 - p_values равномерное распределение\n",
            "Мощность при bucket_size = 10000: 25.0%\n",
            "Корректность при bucket_size = 10000: 97.0% \n",
            "\n"
          ]
        },
        {
          "output_type": "stream",
          "name": "stderr",
          "text": [
            "\n"
          ]
        }
      ]
    },
    {
      "cell_type": "markdown",
      "source": [
        "Максимальная мощность была получена при bucket_size = 1000, количество бакетов в таком случае меньше чем при bucket_size = 100, но при этом мощность была получена больше"
      ],
      "metadata": {
        "id": "uGTQ_Tu3Kt04"
      }
    }
  ]
}