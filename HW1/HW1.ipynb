{
 "cells": [
  {
   "cell_type": "markdown",
   "metadata": {
    "id": "LWHhIv6wb-jj"
   },
   "source": [
    "# ДЗ 1:\n",
    "\n",
    "### Дизайн теста\n",
    "1. Из interactions взять данные за 2 последние недели (2021-08-09 по 2021-08-22)\n",
    "\n",
    "2. Посчитайте на этих данных корректность на бутстрепе и сравните ее с результатами за 1 неделю (посчитано на семинаре) (0.5 балла)\n",
    "\n",
    "3. На двух неделях посчитайте мощность. Для этого нужно в одну из групп докинуть эффект. Докиньте эффект в 1%, 3% и 5% и сравните полученную мощность (1.5 балла)\n",
    "\n",
    "4. Посчитайте MDE, который можно зафиксировать на 2х неделях. В качестве alpha и beta подставьте ваши вычисленные ошибки 1 и 2 рода. Учитывайте что у нас формула для MDE работает для t-test или z-test (1 балл)\n",
    "\n",
    "### A/B тест\n",
    "1. Представим что у нас прошел тест, используем те же самые данные за 2 недели\n",
    "\n",
    "2. Занулите для всех пользователей total_dur, у которых total_dur < 500. Их НЕ УБИРАЕМ, а просто обрабатываем эти значения, принимая за нулевые, но пользователей также учитываем в эксперименте (0.5 балла)\n",
    "\n",
    "3. Разбейте их самостоятельно на две равные группы, используйте функцию groups_splitter и соль = 'kiontestmodel20210805' (0.5 балла)\n",
    "\n",
    "4. Оказалось, что модель в группе В показала себя лучше, чем в группе А на 2.5%, причем эффект распространился неравномерно и преимущественно на 10% самых смотрящих пользователей, докиньте такой эффект самостоятельно. Нужно метрику total_dur увеличить на 2.5% для 10% пользователей с самым продолжительным смотрением. (1 балл)\n",
    "\n",
    "5. Посчитайте результат такого теста и сделайте выводы (2 балла)\n",
    "\n",
    "Еще 1 балл можно получить за хорошее и подробное объяснение каждого шага"
   ]
  },
  {
   "cell_type": "code",
   "execution_count": null,
   "metadata": {
    "id": "Zi3psbEhaSJQ"
   },
   "outputs": [],
   "source": [
    "import numpy as np\n",
    "import scipy\n",
    "import matplotlib.pyplot as plt\n",
    "import scipy.stats as stats\n",
    "import statsmodels\n",
    "import statsmodels.sandbox.stats.multicomp\n",
    "import pandas as pd\n",
    "import datetime\n",
    "from statsmodels.stats.weightstats import ztest\n",
    "\n",
    "import matplotlib.pyplot as plt\n",
    "import seaborn as sns\n",
    "\n",
    "from tqdm import tqdm\n",
    "from sklearn.utils import shuffle\n",
    "import hashlib\n",
    "from base64 import b64encode\n",
    "import collections"
   ]
  },
  {
   "cell_type": "code",
   "execution_count": null,
   "metadata": {
    "colab": {
     "base_uri": "https://localhost:8080/"
    },
    "id": "3LyEaSicZ9xe",
    "outputId": "14c59073-07d2-4327-a7be-f70657048e93"
   },
   "outputs": [
    {
     "name": "stderr",
     "output_type": "stream",
     "text": [
      "kion dataset download: 100%|█████████▉| 78.6M/78.8M [00:04<00:00, 18.5MiB/s]"
     ]
    }
   ],
   "source": [
    "import requests\n",
    "\n",
    "# download dataset by chunks\n",
    "url = \"https://github.com/sharthZ23/your-second-recsys/raw/master/data_kion.zip\"\n",
    "\n",
    "req = requests.get(url, stream=True)\n",
    "\n",
    "with open('data_kion.zip', \"wb\") as fd:\n",
    "    total_size_in_bytes = int(req.headers.get('Content-Length', 0))\n",
    "    progress_bar = tqdm(desc='kion dataset download', total=total_size_in_bytes, unit='iB', unit_scale=True)\n",
    "    for chunk in req.iter_content(chunk_size=2 ** 20):\n",
    "        progress_bar.update(len(chunk))\n",
    "        fd.write(chunk)"
   ]
  },
  {
   "cell_type": "code",
   "execution_count": null,
   "metadata": {
    "id": "npWeN7mAaXkq"
   },
   "outputs": [],
   "source": [
    "# Распаковываем архив из 3 файлов\n",
    "import zipfile\n",
    "\n",
    "with zipfile.ZipFile('data_kion.zip', 'r') as zip_ref:\n",
    "    zip_ref.extractall()"
   ]
  },
  {
   "cell_type": "code",
   "execution_count": null,
   "metadata": {
    "id": "6ktI0yvKaZmU"
   },
   "outputs": [],
   "source": [
    "interactions = pd.read_csv('data_kion/interactions_df.csv')\n",
    "users = pd.read_csv('data_kion/users.csv')\n",
    "items = pd.read_csv('data_kion/items.csv')"
   ]
  },
  {
   "cell_type": "code",
   "execution_count": null,
   "metadata": {
    "id": "9Q5G8WMIa5U6",
    "outputId": "e182233c-c616-4a0e-ae17-5ba7f14ede73"
   },
   "outputs": [
    {
     "name": "stderr",
     "output_type": "stream",
     "text": [
      "\r",
      "kion dataset download: 100%|██████████| 78.8M/78.8M [00:23<00:00, 18.5MiB/s]"
     ]
    }
   ],
   "source": [
    "interactions['last_watch_dt'] = pd.to_datetime(interactions['last_watch_dt'])\n",
    "interactions['user_id'] = interactions['user_id'].astype(str)"
   ]
  },
  {
   "cell_type": "markdown",
   "metadata": {
    "id": "iU36w3lZFG4i"
   },
   "source": [
    "## Дизайн теста\n",
    "1. Из interactions взять данные за 2 последние недели (2021-08-09 по 2021-08-22)"
   ]
  },
  {
   "cell_type": "code",
   "execution_count": null,
   "metadata": {
    "colab": {
     "base_uri": "https://localhost:8080/"
    },
    "id": "50lHUOX0acze",
    "outputId": "1d26dd1d-0f3e-43c0-cbec-835b957d8eeb"
   },
   "outputs": [
    {
     "data": {
      "text/plain": [
       "(Timestamp('2021-08-09 00:00:00'), Timestamp('2021-08-22 00:00:00'))"
      ]
     },
     "execution_count": 6,
     "metadata": {},
     "output_type": "execute_result"
    }
   ],
   "source": [
    "week2 = interactions[(interactions['last_watch_dt'] >= '2021-08-09') & (interactions['last_watch_dt'] <= '2021-08-22')]\n",
    "week2['last_watch_dt'].min(), week2['last_watch_dt'].max()"
   ]
  },
  {
   "cell_type": "code",
   "execution_count": null,
   "metadata": {
    "id": "smUsi-sYSOPN"
   },
   "outputs": [],
   "source": [
    "week2 = week2.groupby('user_id', as_index=False).agg({'total_dur': sum})\n",
    "week2 = week2[(week2['total_dur'] < week2['total_dur'].std() * 3)]"
   ]
  },
  {
   "cell_type": "code",
   "execution_count": null,
   "metadata": {
    "id": "r5uDYPBLaGXl"
   },
   "outputs": [],
   "source": [
    "def salt_generator(salt=None):\n",
    "    import os\n",
    "    from base64 import b64encode\n",
    "    salt = os.urandom(8)\n",
    "\n",
    "    return b64encode(salt).decode('ascii')\n",
    "\n",
    "\n",
    "def get_bootstrap_array(arr):\n",
    "    return np.random.choice(arr, replace=True, size=len(arr))\n",
    "\n",
    "\n",
    "def calc_bootstrap_mean(arr, size=1000):\n",
    "    result = np.empty(size)\n",
    "    for i in range(size):\n",
    "        result[i] = np.mean(get_bootstrap_array(arr))\n",
    "    return result"
   ]
  },
  {
   "cell_type": "code",
   "execution_count": null,
   "metadata": {
    "id": "LYPtnetxgq9Y"
   },
   "outputs": [],
   "source": [
    "def groups_splitter(df, columns, user_salt=None):\n",
    "\n",
    "    if user_salt == None:\n",
    "        salt = salt_generator()\n",
    "    else:\n",
    "        salt = user_salt\n",
    "\n",
    "    df['hash'] = ((df['user_id'].astype(str)) + '#' + salt).apply(lambda x: hashlib.sha256(x.encode('utf-8')).hexdigest())\n",
    "\n",
    "    df['group'] = ((df['hash'].str.slice(start=-6).apply(int, base=16) % 2).map(lambda x: 'A' if x == 0 else 'B'))\n",
    "\n",
    "    return df[columns].drop_duplicates()\n",
    "\n",
    "\n",
    "def calc_bootstrap_mean(arr, size=1000):\n",
    "    result = np.empty(size)\n",
    "    for i in range(size):\n",
    "        result[i] = np.mean(get_bootstrap_array(arr))\n",
    "    return result\n",
    "\n",
    "\n",
    "def get_p_value(dist):\n",
    "    dist = np.array(dist)\n",
    "    x = (dist > 0).mean()\n",
    "    pvalue = min(x, 1 - x) * 2\n",
    "    return pvalue"
   ]
  },
  {
   "cell_type": "markdown",
   "metadata": {
    "id": "DMDSC8-pgYBd"
   },
   "source": [
    "##### 2. Посчитайте на этих данных корректность на бутстрепе и сравните ее с результатами за 1 неделю (посчитано на семинаре) (0.5 балла)"
   ]
  },
  {
   "cell_type": "code",
   "execution_count": null,
   "metadata": {
    "colab": {
     "base_uri": "https://localhost:8080/"
    },
    "id": "rAddQypmgXl3",
    "outputId": "502a102a-431b-41f9-f1da-1959380adfbf"
   },
   "outputs": [
    {
     "name": "stdout",
     "output_type": "stream",
     "text": [
      "significance: 4.8%\n"
     ]
    }
   ],
   "source": [
    "correctness = []\n",
    "values = []\n",
    "\n",
    "for i in range(1000): # в дз используем 1000 итераций\n",
    "\n",
    "    new_df = groups_splitter(week2.copy(), columns=['user_id', 'total_dur', 'group'], user_salt=salt_generator()).drop_duplicates()\n",
    "\n",
    "    vec_a = new_df[(new_df['group'] == 'A')]['total_dur']\n",
    "    vec_b = new_df[(new_df['group'] == 'B')]['total_dur']\n",
    "\n",
    "    #bootstrap\n",
    "    sample_a_mean = calc_bootstrap_mean(vec_a, size=1000) # на бутстрэпе считаем средние для вектора\n",
    "    sample_b_mean = calc_bootstrap_mean(vec_b, size=1000)\n",
    "    values.append(sample_a_mean - sample_b_mean)\n",
    "\n",
    "    left_side, right_side = np.percentile(sample_a_mean - sample_b_mean,\n",
    "                                                  [100 * 0.05 / 2., 100 * (1 - 0.05 / 2.)]) # считаем 95% доверительный интервал для разницы средних\n",
    "\n",
    "    correctness.append(not left_side <= 0 <= right_side)\n",
    "    test_correctness = collections.Counter(correctness)\n",
    "\n",
    "\n",
    "print(f'significance: {test_correctness[1]/(test_correctness[1] + test_correctness[0])*100}%')"
   ]
  },
  {
   "cell_type": "markdown",
   "metadata": {
    "id": "GHWEWEPfJou4"
   },
   "source": [
    "На семинаре была получена корректность равная 5%. Корректоность на бутстрепе за две недели практически равна корректности за 1 неделю"
   ]
  },
  {
   "cell_type": "code",
   "execution_count": null,
   "metadata": {
    "id": "7DqZuHxrqvLu"
   },
   "outputs": [],
   "source": [
    "p_values = [get_p_value(dist) for dist in values]"
   ]
  },
  {
   "cell_type": "code",
   "execution_count": null,
   "metadata": {
    "colab": {
     "base_uri": "https://localhost:8080/",
     "height": 452
    },
    "id": "PZxnWev8qyqW",
    "outputId": "03aefb44-8049-4f6d-8728-c530d99ae328"
   },
   "outputs": [
    {
     "data": {
      "image/png": "[encoded data removed]",
      "text/plain": [
       "<Figure size 640x480 with 1 Axes>"
      ]
     },
     "metadata": {},
     "output_type": "display_data"
    }
   ],
   "source": [
    "plt.hist(p_values, bins=10, color='purple');\n",
    "plt.title(f\"Бутстреп распределение p_value\");"
   ]
  },
  {
   "cell_type": "markdown",
   "metadata": {
    "id": "_NCSUCXPKT0-"
   },
   "source": [
    "На 10 бинах распределение p_value выглядит довольно равномерным, проверим на равномерность с помощью критерия Колмогорова-Смирнова"
   ]
  },
  {
   "cell_type": "code",
   "execution_count": null,
   "metadata": {
    "colab": {
     "base_uri": "https://localhost:8080/"
    },
    "id": "nre_bAzDre_w",
    "outputId": "8227da90-825d-4071-9b9d-70d10e303fa9"
   },
   "outputs": [
    {
     "name": "stdout",
     "output_type": "stream",
     "text": [
      "p_value = 0.6566398438826686 - p_values равномерное распределение\n"
     ]
    }
   ],
   "source": [
    "stat, p_value = scipy.stats.kstest(p_values, scipy.stats.uniform(loc=0.0, scale=1.0).cdf)\n",
    "\n",
    "if p_value < 0.05:\n",
    "    print(f'p_value = {p_value} - p_values неравномерное распределение')\n",
    "else:\n",
    "    print(f'p_value = {p_value} - p_values равномерное распределение')"
   ]
  },
  {
   "cell_type": "markdown",
   "metadata": {
    "id": "dv4o_AsOKuHo"
   },
   "source": [
    "Критерий также указывает на равномерность распределения p_values"
   ]
  },
  {
   "cell_type": "markdown",
   "metadata": {
    "id": "e-Z_MdSSC-Sd"
   },
   "source": [
    "##### 3. На двух неделях посчитайте мощность. Для этого нужно в одну из групп докинуть эффект. Докиньте эффект в 1%, 3% и 5% и сравните полученную мощность (1.5 балла)\n"
   ]
  },
  {
   "cell_type": "code",
   "execution_count": null,
   "metadata": {
    "colab": {
     "base_uri": "https://localhost:8080/"
    },
    "id": "vmhNGi6cC9sN",
    "outputId": "7aa0bb9d-f914-4567-c662-471d29f25f63"
   },
   "outputs": [
    {
     "name": "stdout",
     "output_type": "stream",
     "text": [
      "Мощность при эффекте в 1%: 34.0%\n",
      "Мощность при эффекте в 3%: 99.2%\n",
      "Мощность при эффекте в 5%: 100.0%\n"
     ]
    }
   ],
   "source": [
    "effects = [1.01, 1.03, 1.05]\n",
    "correctness = [[] for _ in range(len(effects))]\n",
    "values = [[] for _ in range(len(effects))]\n",
    "\n",
    "for i in range(1000):\n",
    "\n",
    "    new_df = groups_splitter(week2.copy(), columns=['user_id', 'total_dur', 'group'], user_salt=salt_generator()).drop_duplicates()\n",
    "\n",
    "\n",
    "    vec_a = new_df[(new_df['group'] == 'A')]['total_dur']\n",
    "    vec_b = new_df[(new_df['group'] == 'B')]['total_dur']\n",
    "\n",
    "    #bootstrap\n",
    "    sample_a_mean = calc_bootstrap_mean(vec_a, size=1000)\n",
    "\n",
    "    for idx, effect in enumerate(effects):\n",
    "        sample_b_mean = calc_bootstrap_mean(vec_b * effect, size=1000)\n",
    "        values[idx].append(sample_a_mean - sample_b_mean)\n",
    "\n",
    "        left_side, right_side = np.percentile(sample_a_mean - sample_b_mean,\n",
    "                                                      [100 * 0.05 / 2., 100 * (1 - 0.05 / 2.)])\n",
    "\n",
    "        correctness[idx].append(not left_side <= 0 <= right_side)\n",
    "\n",
    "\n",
    "for idx, effect in enumerate(effects):\n",
    "    test_correctness = collections.Counter(correctness[idx])\n",
    "    print(f'Мощность при эффекте в {round((effect - 1)*100)}%: {test_correctness[1]/(test_correctness[1] + test_correctness[0])*100}%')"
   ]
  },
  {
   "cell_type": "markdown",
   "metadata": {
    "id": "BuGa04lBnzd8"
   },
   "source": [
    "##### 4. Посчитайте MDE, который можно зафиксировать на 2х неделях. В качестве alpha и beta подставьте ваши вычисленные ошибки 1 и 2 рода. Учитывайте что у нас формула для MDE работает для t-test или z-test (1 балл)"
   ]
  },
  {
   "cell_type": "code",
   "execution_count": null,
   "metadata": {
    "id": "LJkzYvPDnzBY"
   },
   "outputs": [],
   "source": [
    "def get_mde(metric_vec, alpha=0.05, beta=0.2):\n",
    "\n",
    "    metric_mean, metric_std, metric_n = metric_vec.mean(), metric_vec.std(), metric_vec.count()\n",
    "\n",
    "    z_alpha = stats.norm.ppf(1 - (alpha / 2), loc=0, scale=1)\n",
    "    z_beta = stats.norm.ppf(1 - beta, loc=0, scale=1)\n",
    "\n",
    "    mde = (z_alpha + z_beta)*metric_std / np.sqrt(metric_n)\n",
    "\n",
    "    return mde*100/metric_mean"
   ]
  },
  {
   "cell_type": "code",
   "execution_count": null,
   "metadata": {
    "id": "G-vFTpannyN1",
    "outputId": "047cf32b-cb6b-4e3c-8b97-954354d3e677"
   },
   "outputs": [
    {
     "name": "stdout",
     "output_type": "stream",
     "text": [
      "MDE = 1.52%\n",
      "MDE = 0.966%\n"
     ]
    }
   ],
   "source": [
    "# Посмотрим на MDE используя мощность при эффекте в 3%\n",
    "print(f\"MDE = {round(get_mde(week2['total_dur'], 0.048, 0.007), 3)}%\")\n",
    "\n",
    "# Посмотрим на MDE при ожидаемой мощности в 80%\n",
    "print(f\"MDE = {round(get_mde(week2['total_dur'], 0.048, 0.2), 3)}%\")"
   ]
  },
  {
   "cell_type": "markdown",
   "metadata": {
    "id": "WlgniKr1Q22f"
   },
   "source": [
    "Не смог придумать/найти более корректный расчет MDE на бутстрапе"
   ]
  },
  {
   "cell_type": "markdown",
   "metadata": {
    "id": "cgXY74rBEyyN"
   },
   "source": [
    "## A/B тест\n",
    "1. Представим что у нас прошел тест, используем те же самые данные за 2 недели\n",
    "2. Занулите для всех пользователей total_dur, у которых total_dur < 500. Их НЕ УБИРАЕМ, а просто обрабатываем эти значения, принимая за нулевые, но пользователей также учитываем в эксперименте (0.5 балла)"
   ]
  },
  {
   "cell_type": "code",
   "execution_count": null,
   "metadata": {
    "id": "1PGkAaFxFo-F"
   },
   "outputs": [],
   "source": [
    "week2.loc[week2['total_dur'] < 500, 'total_dur'] = 0"
   ]
  },
  {
   "cell_type": "markdown",
   "metadata": {
    "id": "lo9clsvyGHxa"
   },
   "source": [
    "##### 3. Разбейте их самостоятельно на две равные группы, используйте функцию groups_splitter и соль = 'kiontestmodel20210805' (0.5 балла)\n"
   ]
  },
  {
   "cell_type": "code",
   "execution_count": null,
   "metadata": {
    "id": "uYA54tiaGFq9"
   },
   "outputs": [],
   "source": [
    "new_df = groups_splitter(\n",
    "    week2.copy(),\n",
    "    columns=['user_id', 'total_dur', 'group'],\n",
    "    user_salt='kiontestmodel20210805'\n",
    ").drop_duplicates()\n",
    "\n",
    "\n",
    "vec_a = new_df[(new_df['group'] == 'A')]['total_dur']\n",
    "vec_b = new_df[(new_df['group'] == 'B')]['total_dur']"
   ]
  },
  {
   "cell_type": "markdown",
   "metadata": {
    "id": "YjP4aMW-Gzkh"
   },
   "source": [
    "##### 4. Оказалось, что модель в группе В показала себя лучше, чем в группе А на 2.5%, причем эффект распространился неравномерно и преимущественно на 10% самых смотрящих пользователей, докиньте такой эффект самостоятельно. Нужно метрику total_dur увеличить на 2.5% для 10% пользователей с самым продолжительным смотрением. (1 балл)"
   ]
  },
  {
   "cell_type": "code",
   "execution_count": null,
   "metadata": {
    "colab": {
     "base_uri": "https://localhost:8080/"
    },
    "id": "0Fu_cF6MOSWa",
    "outputId": "f2979021-7d8f-4253-82dd-089422eb715f"
   },
   "outputs": [
    {
     "data": {
      "text/plain": [
       "True"
      ]
     },
     "execution_count": 197,
     "metadata": {},
     "output_type": "execute_result"
    }
   ],
   "source": [
    "# Проверим, что нет дубликатов пользователей\n",
    "new_df[(new_df['group'] == 'B')]['user_id'].nunique() == vec_b.shape[0]"
   ]
  },
  {
   "cell_type": "code",
   "execution_count": null,
   "metadata": {
    "colab": {
     "base_uri": "https://localhost:8080/"
    },
    "id": "wQhhALn3G92u",
    "outputId": "0f8c7582-1359-46d7-d80d-eea60bab45ec"
   },
   "outputs": [
    {
     "name": "stderr",
     "output_type": "stream",
     "text": [
      "<ipython-input-198-098ce2f91dba>:3: SettingWithCopyWarning: \n",
      "A value is trying to be set on a copy of a slice from a DataFrame\n",
      "\n",
      "See the caveats in the documentation: https://pandas.pydata.org/pandas-docs/stable/user_guide/indexing.html#returning-a-view-versus-a-copy\n",
      "  vec_b[top_10_users_idx] *= 1.025\n"
     ]
    }
   ],
   "source": [
    "# Добавим эффект\n",
    "top_10_users_idx = vec_b.sort_values(ascending=False).index[:int(vec_b.shape[0] * 0.1)]\n",
    "vec_b[top_10_users_idx] *= 1.025"
   ]
  },
  {
   "cell_type": "markdown",
   "metadata": {
    "id": "kzvQvQbpKumD"
   },
   "source": [
    "##### 5. Посчитайте результат такого теста и сделайте выводы (2 балла)\n",
    "\n",
    "\n"
   ]
  },
  {
   "cell_type": "markdown",
   "metadata": {
    "id": "irryrRrNL7bR"
   },
   "source": [
    "Проведем A/B тест, будем использовать бутстрап"
   ]
  },
  {
   "cell_type": "code",
   "execution_count": null,
   "metadata": {
    "id": "wXLa9lt5LnAH"
   },
   "outputs": [],
   "source": [
    "# посчитаем на бутстрэпе средние для векторов\n",
    "sample_a_mean = calc_bootstrap_mean(vec_a, size=1000)\n",
    "sample_b_mean = calc_bootstrap_mean(vec_b, size=1000)\n",
    "\n",
    "# считаем разности\n",
    "dist = sample_a_mean - sample_b_mean\n",
    "\n",
    "# считаем 95% доверительный интервал для разницы средних\n",
    "left_side, right_side = np.percentile(\n",
    "    dist,\n",
    "     [100 * 0.05 / 2., 100 * (1 - 0.05 / 2.)]\n",
    ")\n",
    "\n",
    "# получаем p_value\n",
    "p_value = get_p_value(dist)"
   ]
  },
  {
   "cell_type": "code",
   "execution_count": null,
   "metadata": {
    "id": "Og8Ry_7RQ22l",
    "outputId": "e9b644de-c921-4ced-a72f-5266a97f10b5"
   },
   "outputs": [
    {
     "data": {
      "text/plain": [
       "(-452.18468679774617, -31.428985312187447, True)"
      ]
     },
     "execution_count": 205,
     "metadata": {},
     "output_type": "execute_result"
    }
   ],
   "source": [
    "left_side, right_side, not left_side <= 0 <= right_side"
   ]
  },
  {
   "cell_type": "markdown",
   "metadata": {
    "id": "v23-nKvIQ22m"
   },
   "source": [
    "Ноль не попал в 95% доверительный интервал -> статистически значимых изменений нет"
   ]
  },
  {
   "cell_type": "code",
   "execution_count": null,
   "metadata": {
    "colab": {
     "base_uri": "https://localhost:8080/"
    },
    "id": "uYT0Wy7FMaNa",
    "outputId": "4506b422-5ee0-459b-8129-acb44b8c834c"
   },
   "outputs": [
    {
     "name": "stdout",
     "output_type": "stream",
     "text": [
      "p_value = 0.03 - Есть статистически значимые изменения\n"
     ]
    }
   ],
   "source": [
    "if p_value < 0.05:\n",
    "    print(f'p_value = {p_value} - Есть статистически значимые изменения')\n",
    "else:\n",
    "    print(f'p_value = {p_value} - Нет статистически значимых изменений')"
   ]
  },
  {
   "cell_type": "markdown",
   "metadata": {
    "id": "wnxRnQoIQ22m"
   },
   "source": [
    "По результатам проведенного теста был получен p_value = 0.03, что  также говорит о наличии статистически значимых различий между выборками"
   ]
  },
  {
   "cell_type": "code",
   "execution_count": null,
   "metadata": {
    "colab": {
     "base_uri": "https://localhost:8080/",
     "height": 487
    },
    "id": "AFVcT8RXNvDI",
    "outputId": "3c4888d3-ef0a-47f1-c68a-01dcd05b9a02"
   },
   "outputs": [
    {
     "data": {
      "image/png": "[encoded data removed]",
      "text/plain": [
       "<Figure size 432x288 with 1 Axes>"
      ]
     },
     "metadata": {
      "needs_background": "light"
     },
     "output_type": "display_data"
    }
   ],
   "source": [
    "# Посмотрим на распределение средних двух выборок\n",
    "plt.hist(sample_a_mean, bins=30, color='purple', alpha=0.7, label='Group A')\n",
    "plt.hist(sample_b_mean, bins=30, color='orange', alpha=0.7, label='Group B')\n",
    "plt.title('Histogram of Group A and Group B')\n",
    "plt.legend()\n",
    "plt.tight_layout()\n",
    "plt.show()"
   ]
  }
 ],
 "metadata": {
  "colab": {
   "provenance": []
  },
  "kernelspec": {
   "display_name": "Python 3",
   "language": "python",
   "name": "python3"
  },
  "language_info": {
   "codemirror_mode": {
    "name": "ipython",
    "version": 3
   },
   "file_extension": ".py",
   "mimetype": "text/x-python",
   "name": "python",
   "nbconvert_exporter": "python",
   "pygments_lexer": "ipython3",
   "version": "3.6.9"
  }
 },
 "nbformat": 4,
 "nbformat_minor": 0
}
